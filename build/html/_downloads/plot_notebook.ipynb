{
  "cells": [
    {
      "cell_type": "code",
      "execution_count": null,
      "metadata": {
        "collapsed": false
      },
      "outputs": [],
      "source": [
        "%matplotlib inline"
      ]
    },
    {
      "cell_type": "markdown",
      "metadata": {},
      "source": [
        "\nPlotting example 1\n========================\n\nThe gallery is capable of transforming Python files into reStructuredText files\nwith a notebook structure. For this to be used you need to respect some syntax\nrules.\n\nIt makes a lot of sense to contrast this output rst file with the\n:download:`original Python script <plot_notebook.py>` to get better feeling of\nthe necessary file structure.\n\nAnything before the Python script docstring is ignored by sphinx-gallery and\nwill not appear in the rst file, nor will it be executed.\nThis Python docstring requires an reStructuredText title to name the file and\ncorrectly build the reference links.\n\nOnce you close the docstring you would be writing Python code. This code gets\nexecuted by sphinx gallery shows the plots and attaches the generating code.\nNevertheless you can break your code into blocks and give the rendered file\na notebook style. In this case you have to include a code comment breaker\na line of at least 20 hashes and then every comment start with the a new hash.\n\nAs in this example we start by first writing this module\nstyle docstring, then for the first code block we write the example file author\nand script license continued by the import modules instructions.\n\n"
      ]
    },
    {
      "cell_type": "code",
      "execution_count": null,
      "metadata": {
        "collapsed": false
      },
      "outputs": [],
      "source": [
        "# Code source: \u00d3scar N\u00e1jera\n# License: BSD 3 clause\n\nimport numpy as np\nimport matplotlib.pyplot as plt\nfrom ceilotools import readmatrixfile, readmlh\nmatrixfile='/home/jlgf/Documents/Python/scripts/20160212_UNAM_prf.txt'\nmlhfile='/home/jlgf/Documents/Python/scripts/20160212_UNAM_mlh.txt'"
      ]
    },
    {
      "cell_type": "markdown",
      "metadata": {},
      "source": [
        "This code block is executed, although it produces no output. Lines starting\nwith a simple hash are code comment and get treated as part of the code\nblock. To include this new comment string we started the new block with a\nlong line of hashes.\n\nThe sphinx-gallery parser will assume everything after this splitter and that\ncontinues to start with a **comment hash and space** (respecting code style)\nis text that has to be rendered in\nhtml format. Keep in mind to always keep your comments always together by\ncomment hashes. That means to break a paragraph you still need to commend\nthat line break.\n\nIn this example the next block of code produces some plotable data. Code is\nexecuted, figure is saved and then code is presented next, followed by the\ninlined figure.\n\n"
      ]
    },
    {
      "cell_type": "code",
      "execution_count": null,
      "metadata": {
        "collapsed": false
      },
      "outputs": [],
      "source": [
        "z,time,allprf=readmatrixfile(matrixfile)\nmlhtime,mlh=readmlh(mlhfile)\nplt.figure(figsize=(12,7))\nplt.contourf(time,z,allprf,cmap='Spectral',levels=np.arange(0,300,20))\nplt.colorbar()\nplt.xlabel('Time [h]')\nplt.ylabel('Height [m]')\nplt.savefig('/home/jlgf/Documents/Python/figs/20160212.png')"
      ]
    }
  ],
  "metadata": {
    "kernelspec": {
      "display_name": "Python 3",
      "language": "python",
      "name": "python3"
    },
    "language_info": {
      "codemirror_mode": {
        "name": "ipython",
        "version": 3
      },
      "file_extension": ".py",
      "mimetype": "text/x-python",
      "name": "python",
      "nbconvert_exporter": "python",
      "pygments_lexer": "ipython3",
      "version": "3.6.3"
    }
  },
  "nbformat": 4,
  "nbformat_minor": 0
}