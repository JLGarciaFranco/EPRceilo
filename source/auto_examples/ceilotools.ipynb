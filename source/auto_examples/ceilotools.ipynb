{
  "cells": [
    {
      "cell_type": "code",
      "execution_count": null,
      "metadata": {
        "collapsed": false
      },
      "outputs": [],
      "source": [
        "%matplotlib inline"
      ]
    },
    {
      "cell_type": "markdown",
      "metadata": {},
      "source": [
        "\nCeilo tools module\n*********************************\n.. toctree::\n   :maxdepth: 2\n\nThis is the main toolbox designed to aid main processsing by reading and writing to files and processing data.\n\n\n"
      ]
    },
    {
      "cell_type": "code",
      "execution_count": null,
      "metadata": {
        "collapsed": false
      },
      "outputs": [],
      "source": [
        "import numpy as np\nimport math\nimport os\nfrom wavelets import *\nimport datetime"
      ]
    },
    {
      "cell_type": "code",
      "execution_count": null,
      "metadata": {
        "collapsed": false
      },
      "outputs": [],
      "source": [
        "def histogram(x,N):\n\tntot=len(x)\n\txmax=np.max(x)\n\txmin=np.min(x)\n\tdx=float(xmax-xmin)/N\n\tbins=np.arange(N)*dx+xmin\n\thist=[]\n\tfor unbin in bins:\n\t\tindex=np.where(np.logical_and(x >= unbin , x < unbin+dx))[0]\n\t\thist.append(float(len(index))/ntot)\n\treturn bins,np.array(hist)"
      ]
    },
    {
      "cell_type": "code",
      "execution_count": null,
      "metadata": {
        "collapsed": false
      },
      "outputs": [],
      "source": [
        "def frange(start,stop,step):\n\tvec=np.zeros((stop-start)/step)\n\tnum=start\n\tfor i,t in enumerate(vec):\n\t\tvec[i]=num\n\t\tnum=num+step\n\treturn vec"
      ]
    },
    {
      "cell_type": "code",
      "execution_count": null,
      "metadata": {
        "collapsed": false
      },
      "outputs": [],
      "source": [
        "def roundt(minutos,segundos):\n\tdif=minutos-10\n\tcount=0\n\tminutseg=minutos+(float(segundos)/60.0)\n\twhile dif > 0:\n\t\tdif=dif-10\n\t\tcount=count+1\n\tif minutseg >=9 + (count*10):\n\t\tminutos=(count+1)*10\n\telse:\n\t\tminutos=count*10\n\treturn minutos"
      ]
    },
    {
      "cell_type": "code",
      "execution_count": null,
      "metadata": {
        "collapsed": false
      },
      "outputs": [],
      "source": [
        "def writemlh(outputfile,horas,mlhs,station):\n\tr\"\"\"\n\n\tWrite of mixed-layer file to txt file, using standard heading. For instance:\n\n\t**Parameters**\n\n\t**outputfile**: `string`\n\t    Output filename. Usually a 'txt'.\n\t**horas** : `numpy.narray-float`\n\t    Time vector as hourly decimals. 0., 0.166, ..., 23.83.\n\t**mlhs** : `numpy.narray-float`\n\t    Mixed-layer heights vector.\n\t**station*: `string`\n\t\tStation string\n\n\t:rtype: None\n\n\t*See Also*\n\n\t:ref:`secondary`.\n\n\t\"\"\"\n\tfout=open(outputfile,'w')\n\tfout.write(\"Ceilometer Vaisala CL31. 10 min averages in \"+station+\"\\n\")\n\tfout.write(\"MLH from Gradient method. Espectroscopia y Percepcion Remota, CCA-UNAM\\n\")\n\tfout.write(\"Version: 201801  \"  )\n\tfout.write(\"http://www.atmosfera.unam.mx/espectroscopia/ceilo/\\n\")\n\tfout.write(\"Decimal.hour  MLH(m)\\n\")\n\tfor i,unamlh in enumerate(mlhs):\n\t\ttimeh=horas[i]\n\t\tfout.write(\"%.3f         %i \\n\" % (timeh,unamlh))\n\tfout.close()"
      ]
    },
    {
      "cell_type": "code",
      "execution_count": null,
      "metadata": {
        "collapsed": false
      },
      "outputs": [],
      "source": [
        "def writematrix(outputfile, matrix,zeta,hour_vec,station,date,runv):\n\tr\"\"\"\n\n\tWrite of backscattering matrix to txt file, using standard heading. For instance:\n\n\t**Parameters**\n\n\t**outputfile**: `string`\n\t    Output filename. Usually a 'txt'.\n\t**matrix**: `numpy.nadarray`\n\t    Backscattering matrix mxn where m is the length of time vector, or number of decimal hours in the particular day and n is the length of height vector, usually 500 (10-5000 m every 10 m).\n\t**hour_vec** : `numpy.narray-float`\n\t    Time vector as hourly decimals. 0., 0.166, ..., 23.83.\n\t**date** : `string`\n\t    Date of measurement (typically %Y%m%d)\n\t**station*: `string`\n\t\tStation string\n\n\t:rtype: None\n\n\t*See Also*\n\n\t:ref:`writemlh`\n\n\t\"\"\"\n\tfout=open(outputfile,'w')\n\tfout.write(\"Datos de retrodispersion en \"+ station + date+\"\\n\" )\n\tfout.write(\"Ceilometro Vaisela CL31 \\n\")\n\tfout.write(\"Version del codigo: 201605\\n\"  )\n\tfout.write(\"http://www.atmosfera.unam.mx/espectroscopia/ceilo/\\n\")\n\tfout.write(\"Contacto: Espectroscopia y Percepcion Remota, CCA-UNAM\\n\")\n\tfout.write(\"Corrida de nombre \"+str(runv)+'\\n' )\n\tzstring=\"niveles:\"\n\tfor zval in zeta:\n\t\tzstring=zstring+\" %i\" % (zval)\n\ttstring =\"horas: \"\n\tfor tval in hour_vec:\n\t\ttstring=tstring+\" %.3f\" % (tval)\n\tfout.write(zstring + \"\\n\")\n\tfout.write(tstring +\"\\n\")\n\tfor i,vec in enumerate(matrix):\n\t\tfor j,val in enumerate(vec):\n\n\t\t\tfout.write(str(val)+\" \")\n\t\tfout.write(\"\\n\")\n\tfout.close()\n\n\n#Funcion para calcular promedios horarios para un dia, o para un archivo.\n#MLHAVERAGE.\ndef onedayavg(filename,horas):\n\tdata= np.genfromtxt(filename,skip_header=4)\n\ttime = data[:,0]\n\tmlh = data[:,1]\n\tindices=[]\n\t#Definicion de tiempo minimo, leido del archivo.\n\ttmin=math.floor(min(time))\n\ttmax=tmin+1\n\t#Definicion de tiempo maximo en el archivo.\n\tmaximo=max(time)\n\tpromedios=[]\n\tfiles= filename.split('/')[-1]\n\tpromedios.append(files[0:8])\n\tfor i,h in enumerate(horas):\n\t\tif tmin>horas[i]:\n\t\t\tpromedios.append('')\n\n\tfor i,tt in enumerate(time):\n\n\t\tif tt>=tmin and tt <tmax:\n\t\t\tindices.append(mlh[i])\n\t\t\tif tt == maximo and len(indices) !=0:\n\t\t\t\tavg=sum(indices)/len(indices)\n\t\t\t\tpromedios.append(avg)\n\n\t\telse :\n\t\t\tif len(indices) !=0:\n\t\t\t\tavg=sum(indices)/len(indices)\n\t\t\telse:\n\t\t\t\tavg=' '\n\t\t\tpromedios.append(avg)\n\t\t\tindices = []\n\t\t\ttmin= tmin+1\n\t\t\ttmax= tmax+1\n\t\t\tindices.append(mlh[i])\n\n\n\n\treturn promedios\ndef readmlh(filename):\n    r\"\"\"\n\n    Write of backscattering matrix to txt file, using standard heading. For instance:\n\n    **Parameters**\n\n    **filename**:`string`\n        Input filename. Usually a 'txt'.\n\n    :rtype:time-array, mlh-array:  time and MLH vector.\n\n    *See Also*\n\n    :meth:`writemlh` , :meth:`readmatrixfile`\n\n    \"\"\"\n    profil=np.genfromtxt(filename,skip_header=4)\n    return profil[:,0],profil[:,1]"
      ]
    },
    {
      "cell_type": "code",
      "execution_count": null,
      "metadata": {
        "collapsed": false
      },
      "outputs": [],
      "source": [
        "def readmatrixfile(filename):\n    r\"\"\"\n\n    Write of backscattering matrix to txt file, using standard heading. For instance:\n\n    **Parameters**\n\n    **filename**: `string`\n        Input filename. Usually a 'txt'.\n\n    :rtype: z,tarr,allprf height and time vector and backscattering matrix.\n\n    *See Also*\n\n    :meth:`writemlh`\n\n    \"\"\"\n    m=6\n    y=8\n    f = open(filename, 'r')\n    for i in range(m):\n        f.readline()\n\n    z=np.array(f.readline().split()[1:],dtype=float)\n    tarr=np.array(f.readline().split()[1:],dtype=float)\n    allprf=np.genfromtxt(filename,skip_header=y)\n    #\tprint tarr\n    #\tprint allprf.shape\n    return [z,tarr,allprf]"
      ]
    },
    {
      "cell_type": "code",
      "execution_count": null,
      "metadata": {
        "collapsed": false
      },
      "outputs": [],
      "source": [
        "def insertmatrix(filename,t):\n\tdata= np.genfromtxt(filename,skip_header=4)\n\ttime = data[:,0]\n\tmlh = data[:,1]\n\theight=0\n\tfor i,tt in enumerate(time):\n\t\tif tt==t:\n\n\t\t\theight=mlh[i]\n\t\t\tbreak\n\n\treturn height"
      ]
    },
    {
      "cell_type": "code",
      "execution_count": null,
      "metadata": {
        "collapsed": false
      },
      "outputs": [],
      "source": [
        "def runningMeanFast(x, N):\n\tr\"\"\"\n\n\tRunning mean of array x over a window of size N.\n\n\t**Parameters**\n\n\t**x**: `np.array`\n\t    Numpy array, usually 1D, to average over a moving or running mean.\n\t**N**: `numpy.nadarray`\n\t    Size of moving average window.\n\n\t:rtype: `np.array` averaged with running mean.\n\n    .. note::\n        This script makes use of numpy.convolve.\n\n\t\"\"\"\n\travg=np.convolve(x, np.ones((N,))/N,mode='valid')[(N-1):]\n\tsize=len(ravg)\n\tdif=len(x)-len(ravg)\n\tapendix=np.zeros(dif)\n\tcounter=0\n\tfor i,j in enumerate(apendix):\n\t\tif i == 0:\n\t\t\tapendix[i]=x[i]\n\t\telif i == 1:\n\t\t\tapendix[i]=np.sum(x[i-counter:i+1])/2.0\n\t\telse:\n\t\t\tapendix[i]=np.sum(x[i-counter:i+1])/float(i+1)\n\t\tcounter+=1\n\t\t#apendix[i]=np.sum(x[i-2:i+1])/3.0\n\travg=np.insert(ravg,0,apendix)\n\t#print len(ravg),len(x)\n\t#print ravg\n\treturn ravg\n#USOS EN CEILOV\ndef writenumofprof(outputfile,numofprof,t, estacion,date):\n\tr\"\"\"\n\n\tWrite number of backscattering profiles used for every 10-min averaged window.\n\n\t**Parameters**\n\n\t**outputfile**: `string`\n\t    Output filename. Usually a 'txt'.\n\t**numofprof**: `int`\n\t    Number of profiles used for average\n\t**t** : `numpy.narray-float`\n\t    Time vector as hourly decimals. 0., 0.166, ..., 23.83.\n\t**date** : `string`\n\t    Date of measurement (typically %Y%m%d)\n\t**estacion*: `string`\n\t\tStation string\n\n\t:rtype: None\n\n\t*See Also*\n\n    :meth:`writematrix`\n\n\t\"\"\"\n\tfout=open(outputfile,'w')\n\tfout.write(\"Datos de perfiles promediados \"+ estacion + date[1:-6]+\"\\n\" )\n\tfout.write(\"Ceilometro Vaisala CL31 \\n\")\n\tfout.write(\"Version del codigo: 2016 05 \\n\"  )\n\tfout.write(\"http://www.atmosfera.unam.mx/espectroscopia/ceilo/\\n\")\n\tfout.write(\"Contacto: Espectroscopia y Percepcion Remota, CCA-UNAM\\n\")\n\ttstring =\"horas: \"\n\tfor tval in t:\n\t\ttstring=tstring+\" %.3f\" % (tval)\n\tfout.write(tstring +\"\\n\")\n\tfor i,prof in enumerate(numofprof):\n\t\ttimeh=t[i]\n\t\tfout.write(\"%.3f         %i \\n\" % (timeh,prof))\n\tfout.close()"
      ]
    },
    {
      "cell_type": "code",
      "execution_count": null,
      "metadata": {
        "collapsed": false
      },
      "outputs": [],
      "source": [
        "def writeavgmatrix(outputfile,tvec,estacion,matrix,runv,averages):\n\tfout=open(outputfile,'w')\n\tfout.write('Matriz de datos diarios a promediar' +'\\n')\n\tfout.write('Ceilometro Vaisala CL31 '+estacion+'\\n')\n\tfout.write('Corrida correspondiente a '+str(runv)+'\\n')\n\ttstring='Tiempo (horas):'\n\tavg=''\n\tfor h,t in enumerate(tvec):\n\t\ttstring=tstring+\" %.3f\" % (t)\n\t\tavg=avg+str(averages[h])+' '\n\tfout.write(tstring + \"\\n\")\n\tflistsize=matrix.shape\n\ttvec=flistsize[0]\n\tfvec=flistsize[1]\n\tfor i in range(fvec):\n\t\tfor j in range(tvec):\n\t\t\tpoint=matrix[j,i]\n\t\t\tfout.write(str(point)+' ')\n\t\tfout.write('\\n')\n\tfout.write(avg+'\\n')\n\tfout.close()"
      ]
    },
    {
      "cell_type": "markdown",
      "metadata": {},
      "source": [
        "Usados en Avgmlh REDONDEANDO.\n\n"
      ]
    },
    {
      "cell_type": "code",
      "execution_count": null,
      "metadata": {
        "collapsed": false
      },
      "outputs": [],
      "source": [
        "def insrtmatrxrnd(filename,t,trthval):\n\tdata= np.genfromtxt(filename,skip_header=4)\n\ttime = data[:,0]\n\tmlh = data[:,1]\n\theight=0\n\tfor i,tt in enumerate(time):\n\t\tif tt > 23.3:\n\t\t\tbase=2.0/6.0\n\t\telse:\n\t\t\tbase=1.0/6.0\n\t\tif myround(tt,base)==t:\n\t\t\tif trthval is not False and int(mlh[i])<=60:\n\t\t\t\theight=0\n\t\t\telse:\n\t\t\t\theight=mlh[i]\n\t\t\tbreak\n\treturn height"
      ]
    },
    {
      "cell_type": "code",
      "execution_count": null,
      "metadata": {
        "collapsed": false
      },
      "outputs": [],
      "source": [
        "def addtovecrnd(filename,tvec):\n\tdata= np.genfromtxt(filename,skip_header=4)\n\ttime = data[:,0]\n\tmlh = data[:,1]\n\tfor i,tt in enumerate(time):\n\t\tif tt > 23.3:\n\t\t\tbase=2.0/6.0\n\t\telse:\n\t\t\tbase=1.0/6.0\n\t\tif myround(tt,base) not in tvec:\n\t \t\ttvec.append(myround(tt,base))\n\n\treturn tvec"
      ]
    },
    {
      "cell_type": "code",
      "execution_count": null,
      "metadata": {
        "collapsed": false
      },
      "outputs": [],
      "source": [
        "def myround(x, base):\n    return base * round(float(x) / base)\ndef ipmthd(vec,lowlm,z):\n\tipm=np.diff(vec)\n\tnewmlh=np.argmin(ipm)\n\tmlh=z[newmlh+lowlm]\n\treturn mlh\ndef algmlh(allprf,method,mlh,i,z,tarr,t,uplim):\n\tr\"\"\"\n\n\tAlgorithms used for Mixed-layer Height determination.This script computes the mlh through an iterative approach and calls the relevant method.\n\n    A combined approach, named C2, due to the fact that it was the second version of a Combined algorithm uses both the gradient method and the wavelet method to find the boundary layer top. This was the algorithm used in :cite:`jlgf2018`.\n\n\t**Parameters**\n\n\t**allprf**: `np.nadarray`\n\t    backscattering matrix\n    **method**: `string`\n\t    String calling a MLH determination method, either of the following strings are accepted: 'WT', 'Gradient', 'IPM', 'C2'.\n\t**tarr** : `np.array`\n\t    Time-array, usually decimal hours.\n\t**mlh** : `numpy.nadarray`\n\t    Mixed-layer height array, usually len(mlh)=144.\n    **i** : `int`\n  \t   Integer of current time-step. Ranging from 0-143.\n\t**z** : `np.array`\n\t\tHeight-array usually length 500, start=10, end=5000, t_step=10 [m]\n\t**t** : `numpy.narray-float`\n\t    Time float of this specific computation.\n\t**uplim** : `string`\n\t    Upper-limit of maximum MLH possible.\n\n\t:rtype: mlh: float\n\n    .. note::\n    \t**See Also functions to estimate and write mlh**\n\n        :meth:`writemlh`\n        :meth:`ipf`\n        :meth:`wavelets`\n\n\t\"\"\"\n\tjk=i\n\tlowlim=20\n\tuplim=uplim\n#\tif t <8. and t >4.:\n#\t\tuplim=90\n#\telif t<=4. or (t>=21. and t<=24.):\n#\t\tuplim=120\n#\telif (t>=8. and t<12.) or (t>18. and t<21.):\n#\t\tuplim=140\n#\telif (t>=12. and t<= 14.):\n#\t\tuplim=150\n#\telse:\n#\t\tuplim=200\n\tif len(z) > 255:\n#\t\tuplm=2*uplim\n\t\t#print uplim, lowlim,i\n\t\tlowlm=lowlim\n\t\ta1=2\n\t\ta2=10\n\t\tfi=a2\n\t\tnn=1\n\t\ttry:\n\t\t\tvec=allprf[lowlim+1:uplim+1,jk]-allprf[lowlim:uplim,jk]\n\t\texcept IndexError:\n\t\t\treturn\n\telif len(z) <=250:\n\t\tlowlm=int(lowlim/2.)\n\t\tvec=allprf[lowlm+1:uplim+1,jk]-allprf[lowlm:uplim,jk]\n\t\ta1=1\n\t\ta2=20\n\t\tfi=5\n\t\tnn=2\n\tif method == 'Gradient' or method == 'Composite 1' or method =='C2':\n\t\timin=np.argmin(vec)\n\t\tmlh[jk]=z[imin+(lowlm)]\n\t\t#if method=='C2':\n\t\t#\tprint t,mlh[jk]\n\telif method == 'Ipm':\n\t\tmlh[jk]=ipmthd(vec,lowlm,z)\n\telif method == 'WT':\n\t\ta=120/a1\n\n\t\tbot,mlh[jk],top=haarcovtransfm(allprf,z,jk,'Auto',fi,t,uplim*10*nn,lowlim*10)\n\tif method == 'Composite 1':\n\t\tif mlh[jk]<=120 or (jk>1 and mlh[jk] - mlh[jk-1] > 1000) :\n\t\t\tipm=ipmthd(vec,lowlm,z)\n\t\t\tif ipm<=120 or (jk>1 and ipm - mlh[jk-1] > 700):\n\t\t\t\t#print '!!!! Valor anomalo en la hora', tarr[jk]\n\t\t\t\t#print 'Gradiente =', mlh[jk]\n\t\t\t\t#print 'Ipm = ', ipm\n\t\t\t\ta=120/a1\n\t\t\t\tb=range(100,4000,a2)\n\t\t\t\tnewmlh=haarcovtransfm(allprf,z,jk,a,b,fi)\n\t\t\t\tbottom=120\n\t\t\t\tlow=100\n\t\t\t\twhile newmlh<= bottom:\n\t\t\t\t\t\tlow=low+fi\n\t\t\t\t\t\tbottom=low\n\t\t\t\t\t\tb=range(low,4000,a2)\n\t\t\t\t\t\tnewmlh=haarcovtransfm(allprf,z,jk,a,b,fi)\n\t\t\t\t\t\tif bottom >= 1000:\n\t\t\t\t\t\t\tbreak\n\t\t\t\tif mlh[jk] >= 120:\n\t\t\t\t\tmlh[jk]=np.sum(ipm+newmlh+mlh[jk])/3.\n\t\t\t\telif ipm - mlh[jk-1] < 1300:\n\t\t\t\t\tmlh[jk]=np.sum(ipm+newmlh)/2.\n\t\t\t\telse:\n\t\t\t\t\tmlh[jk]=newmlh\n\n\t\t\t\t#print 'WT iterative =', newmlh\n\t\t\telif mlh[jk]>120:\n\t\t\t\tmlh[jk]=(ipm+mlh[jk])/2.\n\n\t\t\t#print 'Anterior, Final ',mlh[jk-1], mlh[jk]\n\telif method == 'C2':\n\t\t#print mlh[jk]\n\t\tif mlh[jk]<=(lowlim*10+50) or (jk>1 and mlh[jk] - mlh[jk-1] > 200):\n\t\t\ta=120/a1\n\t\t\tbot,newmlh,top=haarcovtransfm(allprf,z,jk,'Auto',fi,t,uplim*10*nn,lowlim*10)\n\t\t#\tprint t, mlh[jk],newmlh\n\t\t\tif newmlh -mlh[jk-1] > 200:\n\t\t\t\tupper=uplim*10*nn\n\t\t\t\twhile upper - newmlh < 500. and upper > 2500.:\n\t\t\t\t\tupper=upper-100\n\t\t\t\t\tbot,newmlh,top=haarcovtransfm(allprf,z,jk,'Auto',fi,t,upper,lowlim*10)\n\t\t\t\t\t#print newmlh\n\t\t\tif mlh[jk]>(lowlim*10+50) or newmlh<=(lowlim*10+50):\n\t\t\t\tmlh[jk]=(newmlh+mlh[jk])/2.\n\t\t\telse:\n\t\t\t\tmlh[jk]=newmlh\n\n\t\t#\tprint 'MLH FINAL  :::',mlh[jk]\n\t\t\t#print 'Anterior, Final ',mlh[jk-1], mlh[jk]\n\t#print 'FINAL', mlh[jk]\n\treturn mlh[jk]\ndef cloudfilter(allprf,tarr,z,datestring):\n\tr\"\"\"\n\tCloud filter\n\t--------------\n\n\tThis function computes the cloud filter equations described in [Teschke (2008),Garcia-Franco (2017), Garcia-Franco et.al. (2018)]\n\n\n\n\t**Parameters**\n\n\t**allprf**: `np.nadarray`\n\t    backscattering matrix\n\t**tarr** : `np.array`\n\t    Time-array, usually decimal hours.\n\t**z** : `np.array`\n\t\tHeight-array usually length 500, start=10, end=5000, t_step=10 [m]\n\t**datestring** : `string`\n\t\tString for date, typically %Y%m%d, e.g., 20160305\n\n\t:rtype: datetimearray, flag vector: temps returns all datetimes where cloud or precipitation\n\thas been found, flag vector is a numpy array with the dimensions of tarr where clouds are depicted\n\tas 1 and clear-sky conditions as 0.\n\n\n\t**Statistical filter**\n\n\t.. math:: \\beta_\\sigma (z,t)=B(z,t)\\sigma(t)\n\t.. math:: \\mu=\\frac{1}{N_zN_t}\\sum_z\\sum_t\\beta_\\sigma(z,t)\n\t.. math:: \\sum=\\frac{1}{N_zN_t-1}\\sum_z\\sum_t[\\beta_\\sigma(z,t)-\\mu]^2.\n\t.. math:: B_N=\\mu+3\\sqrt{\\sum}\n\n\t* :math:`B(z,t)` Backscattering matrix\n\t* :math:`\\sigma(t)` Variance over time $t$.\n\t* :math:`\\mu` Global mean of \\beta_\\sigma(z,t)\n\t* :math:`\\sum` Global variance of \\beta_\\sigma(z,t)\n\t* :math:`z_{max}` Maximum integration level [m]\n\t* :math:`B_N` Threshold for determining cloud or no cloud, function of both global mean and variance.\n\n\t`B_N` defines the threshold value used for determining whether or not a profile at time `t` presents\n\tcloud and precipiation or not. If B(z,t)>B_N then cloud and precipitation are present. Else, clear-sky conditions\n\tare considered.\n\t\"\"\"\n\tthrs=1750.0\n\tday=datestring\n\tdia=int(day[6:8])\n\tyear=int(day[0:4])\n\tmes=int(day[4:6])\n\tzi=np.where(z==200.)\n\tzi=zi[0]\n\tzmax=np.where(z==4000.)\n\tzmax=zmax[0]\n\t#print zi,zmax\n\ta=allprf[zi:zmax,:]\n\tnbs=[]\n\ttmps=[]\n\tsigma_t=np.sigma(tarr)\n\tcount=len(tarr)*len(z[zi:zmax])\n\tsumi=0\n\tfor i,t in enumerate(tarr):\n\n\t\tfor j,z1 in enumerate(z[zi:zmax]):\n\t\t\ttry:\n\t\t\t\tsumi=sumi+a[j+zi,i]\n\t\t\texcept IndexError:\n\t#\t\t\tprint fl\n\t\t\t\tcontinue\n\tmu=sumi/count\n\tdeviat=0\n\tfor i,t in enumerate(tarr):\n\t\tfor j,z1 in enumerate(z[zi:zmax]):\n\t\t\ttry:\n\n\t\t\t\tdeviat=deviat+((a[j+zi,i]-mu)**2)\n\t\t\texcept IndexError:\n\t\t\t\tcontinue\n\n\tsigma=deviat/(count-1)\n\tec=mu+(3*np.sqrt(sigma))\n#\tprint 'media','sigma','3','s'\n#\tprint mu,sigma,three,two\n\t#if ec > 1400:\n\t#\tprint fl, ec\n\n\tfor i,t in enumerate(tarr):\n\t\tcloud=False\n\t\tfor j,z1 in enumerate(z[zi:zmax]):\n\t\t\ttry:\n\t\t\t\tif a[j+zi,i]>ec or a[j+zi,i]>thrs:\n\t\t\t\t\thoras=int(math.floor(t))\n\t\t\t\t\tminutos=int(round((t-horas)*60,-1))\n\t\t\t\t\ttim=datetime.datetime(year,mes,dia,horas,minutos)\n\t\t\t\t\ttmps.append(tim)\n\t\t\t\t\t#nbs.append(1)\n\t\t\t\t\tcloud=True\n\t\t\t\t\tbreak\n\t\t\texcept IndexError:\n\t\t\t\tcontinue\n\t\tif cloud:\n\t\t\tnbs.append(1)\n\t\telse:\n\t\t\tnbs.append(0)\n#\tprint tmps\n#\tprint nbs\n\treturn tmps,nbs"
      ]
    },
    {
      "cell_type": "markdown",
      "metadata": {},
      "source": [
        "##LECTURA ESTANDAR DE PERFILES DE RETRODISPERSION\n\n"
      ]
    },
    {
      "cell_type": "code",
      "execution_count": null,
      "metadata": {
        "collapsed": false
      },
      "outputs": [],
      "source": [
        "def readprofile(fl,tim):\n\tfle=open(fl,'r')\n\tfor i in range(6):\n\t\tfle.readline()\n\tfilename=fl.split('/')[1]\n\t#Check if filename is in UT-5 months.\n\tallprf=np.genfromtxt(fl,skip_header=8)\n\tz=np.array(fle.readline().split()[1:],dtype=float)\n\ttarr=np.array(fle.readline().split()[1:],dtype=float)\n\tfle.close()\n\ttarr=np.round(tarr,3)\n\ti,=np.where(tarr==tim)\n\tif len(i) == 0:\n\t\treturn\n\ttry:\n\t\tperfil=allprf[:,int(i[0])]\n\texcept IndexError:\n\t\treturn\n\t#print perfil\n\t#print perfil\n\t#print len(perfil)\n\tif len(allprf) == 250:\n\t\tfor i in range(1,501,2):\n\t\t\t#print i\n\t\t\tperfil=np.insert(perfil,i,int(0))\n\n\t#print perfil\n\ttry:\n\n\t\treturn perfil\n\texcept:\n\t\tpass"
      ]
    }
  ],
  "metadata": {
    "kernelspec": {
      "display_name": "Python 3",
      "language": "python",
      "name": "python3"
    },
    "language_info": {
      "codemirror_mode": {
        "name": "ipython",
        "version": 3
      },
      "file_extension": ".py",
      "mimetype": "text/x-python",
      "name": "python",
      "nbconvert_exporter": "python",
      "pygments_lexer": "ipython3",
      "version": "3.6.3"
    }
  },
  "nbformat": 4,
  "nbformat_minor": 0
}